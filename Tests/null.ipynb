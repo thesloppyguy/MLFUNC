{
 "cells": [
  {
   "cell_type": "code",
   "execution_count": 2,
   "source": [
    "import pandas as pd\r\n",
    "import numpy as np"
   ],
   "outputs": [],
   "metadata": {}
  },
  {
   "cell_type": "code",
   "execution_count": 3,
   "source": [
    "df = pd.read_csv('D:/Programs/MLFUNC/Data/train.csv')"
   ],
   "outputs": [],
   "metadata": {}
  },
  {
   "cell_type": "code",
   "execution_count": 11,
   "source": [
    "lower_lim = round(df['Age'].mean()-3*df['Age'].std())\r\n",
    "upper_lim = round(df['Age'].mean()+3*df['Age'].std())"
   ],
   "outputs": [],
   "metadata": {}
  },
  {
   "cell_type": "code",
   "execution_count": 26,
   "source": [
    "del_dict=dict(df[(df['Age'] > upper_lim) | (df['Age'] < lower_lim)]['PassengerId'])\t"
   ],
   "outputs": [],
   "metadata": {}
  },
  {
   "cell_type": "code",
   "execution_count": 45,
   "source": [
    "mango = []"
   ],
   "outputs": [],
   "metadata": {}
  },
  {
   "cell_type": "code",
   "execution_count": 46,
   "source": [
    "for i in del_dict:\r\n",
    "    if i not in mango:\r\n",
    "        mango.append(del_dict[i])"
   ],
   "outputs": [],
   "metadata": {}
  },
  {
   "cell_type": "code",
   "execution_count": 47,
   "source": [
    "print(mango)"
   ],
   "outputs": [
    {
     "output_type": "stream",
     "name": "stdout",
     "text": [
      "[631, 852]\n"
     ]
    }
   ],
   "metadata": {}
  },
  {
   "cell_type": "code",
   "execution_count": 22,
   "source": [
    "num_rows = len(df.index)\r\n",
    "low_information_cols = []"
   ],
   "outputs": [],
   "metadata": {}
  },
  {
   "cell_type": "code",
   "execution_count": 24,
   "source": [
    "    for col in df.columns:\r\n",
    "        cnts = df[col].value_counts(dropna=False)\r\n",
    "        top_pct = (cnts/num_rows).iloc[0]\r\n",
    "\r\n",
    "        if top_pct > 0.65:\r\n",
    "            low_information_cols.append(col)\r\n",
    "            print('{0}: {1:.5f}%'.format(col, top_pct*100))\r\n",
    "            print(cnts)\r\n",
    "            keep = input(\"Do you want to keep this feature Y/N  :\")\r\n",
    "            if keep == 'Y' or keep == 'y':\r\n",
    "                low_information_cols.remove(col)"
   ],
   "outputs": [
    {
     "output_type": "stream",
     "name": "stdout",
     "text": [
      "SibSp: 68.23793%\n",
      "0    608\n",
      "1    209\n",
      "2     28\n",
      "4     18\n",
      "3     16\n",
      "8      7\n",
      "5      5\n",
      "Name: SibSp, dtype: int64\n",
      "Parch: 76.09428%\n",
      "0    678\n",
      "1    118\n",
      "2     80\n",
      "3      5\n",
      "5      5\n",
      "4      4\n",
      "6      1\n",
      "Name: Parch, dtype: int64\n",
      "Cabin: 77.10438%\n",
      "NaN            687\n",
      "B96 B98          4\n",
      "C23 C25 C27      4\n",
      "G6               4\n",
      "F2               3\n",
      "              ... \n",
      "C54              1\n",
      "F38              1\n",
      "D49              1\n",
      "D46              1\n",
      "D6               1\n",
      "Name: Cabin, Length: 148, dtype: int64\n",
      "Embarked: 72.27834%\n",
      "S      644\n",
      "C      168\n",
      "Q       77\n",
      "NaN      2\n",
      "Name: Embarked, dtype: int64\n"
     ]
    }
   ],
   "metadata": {}
  },
  {
   "cell_type": "code",
   "execution_count": 20,
   "source": [
    "print(low_information_cols)"
   ],
   "outputs": [
    {
     "output_type": "stream",
     "name": "stdout",
     "text": [
      "[]\n"
     ]
    }
   ],
   "metadata": {}
  },
  {
   "cell_type": "code",
   "execution_count": 11,
   "source": [
    "a.remove('a')"
   ],
   "outputs": [],
   "metadata": {}
  },
  {
   "cell_type": "code",
   "execution_count": 12,
   "source": [
    "print(a)"
   ],
   "outputs": [
    {
     "output_type": "stream",
     "name": "stdout",
     "text": [
      "['b', 'c']\n"
     ]
    }
   ],
   "metadata": {}
  }
 ],
 "metadata": {
  "orig_nbformat": 4,
  "language_info": {
   "name": "python",
   "version": "3.9.1",
   "mimetype": "text/x-python",
   "codemirror_mode": {
    "name": "ipython",
    "version": 3
   },
   "pygments_lexer": "ipython3",
   "nbconvert_exporter": "python",
   "file_extension": ".py"
  },
  "kernelspec": {
   "name": "python3",
   "display_name": "Python 3.9.1 64-bit ('env': venv)"
  },
  "interpreter": {
   "hash": "53966e2ae58d4986c5b9dbc72e3649e193c218e9741332a6536c1d80f86bfdbe"
  }
 },
 "nbformat": 4,
 "nbformat_minor": 2
}